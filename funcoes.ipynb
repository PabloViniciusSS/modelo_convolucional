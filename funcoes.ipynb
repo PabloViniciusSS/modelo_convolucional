{
 "cells": [
  {
   "cell_type": "code",
   "execution_count": 1,
   "metadata": {},
   "outputs": [],
   "source": [
    "import numpy as np\n",
    "import h5py\n",
    "import matplotlib.pyplot as plt\n",
    "\n",
    "%matplotlib inline\n",
    "plt.rcParams['figure.figsize'] = (5.0, 4.0) # set default size of plots\n",
    "plt.rcParams['image.interpolation'] = 'nearest'\n",
    "plt.rcParams['image.cmap'] = 'gray'\n",
    "\n",
    "%load_ext autoreload\n",
    "%autoreload 2\n",
    "\n",
    "np.random.seed(1)"
   ]
  },
  {
   "cell_type": "markdown",
   "metadata": {},
   "source": [
    "### Passo a Passo\n",
    "\n",
    "O objetivo é criar blocos de instrução de uma rede neural"
   ]
  },
  {
   "cell_type": "markdown",
   "metadata": {},
   "source": [
    "### Zero page\n",
    "\n",
    "Colocar zeros envolta das imagens para:\n",
    "\n",
    "- Ajuda na hora de transforma a imagem para não perde qualidade das bordas na hora de transforma ela em um tamanho menor, pois, a borda não tem outros pixels do lado\n",
    "\n",
    "- Ajuda a manter todas as informações necessárias"
   ]
  },
  {
   "cell_type": "code",
   "execution_count": 2,
   "metadata": {},
   "outputs": [],
   "source": [
    "def zero_pad(X, pad):\n",
    "\n",
    "  X_pad = np.pad(X, ((0,0), (pad,pad), (pad,pad), (0,0)), mode='constant', contant_values= (0,0))"
   ]
  },
  {
   "cell_type": "markdown",
   "metadata": {},
   "source": [
    "### Passo unico de Convolução\n",
    "\n",
    "Cria um filtro para realizar um passo do convolução:\n",
    "\n",
    "- Onde pega o volume da entrada\n",
    "- Aplica o Filtro\n",
    "- Sai um outro volume de entrada\n",
    "\n",
    "\n",
    "Nessa primeira etapa vamos utilizar apenas um filtro e aplicar em uma saida"
   ]
  },
  {
   "cell_type": "code",
   "execution_count": 3,
   "metadata": {},
   "outputs": [],
   "source": [
    "def conv_single_step(a_slice_prev, W, b):\n",
    "\n",
    "    s = np.multiply(a_slice_prev, W)\n",
    "    z = np.sum([s])\n",
    "    Z = np.sum([z, np.squeeze(b)])\n",
    "\n",
    "    return Z"
   ]
  },
  {
   "cell_type": "markdown",
   "metadata": {},
   "source": [
    "### Redes Neuronais Convolucionais - Passe para a frente\n",
    "\n",
    "É passado um filtro para transforma a imagem em 2d e depois transforma-la em 3d"
   ]
  },
  {
   "cell_type": "code",
   "execution_count": 4,
   "metadata": {},
   "outputs": [],
   "source": [
    "def conv_foward(A_prev, W, b, hparameters):\n",
    " # Extrai as dimensões das ativações de entrada (A_prev), pesos do filtro (W), vieses (b) e hiperparâmetros (hparameters)\n",
    "# Calcula as dimensões do volume de saída (Z) com base no tamanho de entrada, tamanho do filtro, passo e preenchimento (padding)\n",
    "    \n",
    "   # Extrai as dimensões das ativações de entrada (A_prev)\n",
    "  (m, n_H_prev, n_W_prev, n_C_prev) = A_prev.shape\n",
    "\n",
    "  # Extrai as dimensões do filtro (W)\n",
    "  (f, f, n_C_prev, n_C) = W.shape\n",
    "\n",
    "  stride = hparameters[\"stride\"] # Extrai o passo\n",
    "  pad = hparameters[\"pad\"] # Extrai o preenchimento \n",
    "\n",
    "  # Calcula a altura e largura do volume de saída (Z) usando a fórmula de convolução\n",
    "  n_H = int((n_H_prev + (2 * pad)-f) / stride) + 1\n",
    "  n_W = int ((n_W_prev + (2 *pad)-f) / stride) + 1\n",
    "\n",
    "  # Inicializa o volume de saída (Z) com zeros  \n",
    "  Z = np.zeros((m, n_H, n_W, n_C))\n",
    "\n",
    "  # Realiza o preenchimento (padding) zero nas ativações de entrada\n",
    "  A_prev_pad = zero_pad(A_prev, pad)\n",
    "\n",
    " # Loop pelos exemplos no mini-lote (m) e aplica a operação de convolução deslizando o filtro sobre o volume de entrada\n",
    "  for i in range(m):  \n",
    "    a_prev_pad = A_prev_pad[i]         # Seleciona o i-ésimo exemplo com preenchimento\n",
    "    \n",
    "    # Loop pela altura do volume de saída (Z)\n",
    "    for h in range(n_H):        \n",
    "\n",
    "      \n",
    "      vert_start = stride * h   # Define o índice inicial vertical\n",
    "      vert_end = vert_start + f  # Define o índice final vertical\n",
    "\n",
    "      # Loop pela largura do volume de saída (Z)\n",
    "      for w in range(n_W):\n",
    "\n",
    "      \n",
    "        horiz_start = stride * w # Define o índice inicial horizontal\n",
    "        horiz_end = horiz_start + f # Define o índice final horizontal\n",
    "\n",
    "\n",
    "         # Loop pelos canais do volume de saída (Z)\n",
    "        for c in range(n_C): \n",
    "\n",
    "          \n",
    "          # Extrai a \"fatia\" correspondente do volume de entrada\n",
    "          a_slice_prev = a_prev_pad[vert_start:vert_end, horiz_start:horiz_end,:]\n",
    "\n",
    "          # Extrai os pesos e vieses do filtro\n",
    "          weight = W[:, :, :, c]\n",
    "          biases = b[:, :, :, c]\n",
    "\n",
    "          # Realiza uma única etapa da convolução usando a função conv_single_step\n",
    "          Z[i, h, w, c] = conv_single_step(a_slice_prev, weight, biases)\n",
    "\n",
    "  cache = (A_prev, W, b, hparameters)\n",
    "\n",
    "  return Z, cache\n",
    "          \n",
    "\n",
    "  "
   ]
  }
 ],
 "metadata": {
  "kernelspec": {
   "display_name": "base",
   "language": "python",
   "name": "python3"
  },
  "language_info": {
   "codemirror_mode": {
    "name": "ipython",
    "version": 3
   },
   "file_extension": ".py",
   "mimetype": "text/x-python",
   "name": "python",
   "nbconvert_exporter": "python",
   "pygments_lexer": "ipython3",
   "version": "3.8.8"
  }
 },
 "nbformat": 4,
 "nbformat_minor": 2
}
